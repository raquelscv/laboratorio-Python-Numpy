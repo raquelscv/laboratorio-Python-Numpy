{
 "cells": [
  {
   "cell_type": "markdown",
   "id": "6db588db",
   "metadata": {},
   "source": [
    "<div style=\"text-align: center;\">\n",
    "  <img src=\"https://github.com/Hack-io-Data/Imagenes/blob/main/01-LogosHackio/logo_naranja@4x.png?raw=true\" alt=\"esquema\" />\n",
    "</div>"
   ]
  },
  {
   "cell_type": "code",
   "execution_count": 2,
   "id": "11d3f85f",
   "metadata": {},
   "outputs": [],
   "source": [
    "import os"
   ]
  },
  {
   "cell_type": "code",
   "execution_count": 4,
   "id": "64ff9293",
   "metadata": {},
   "outputs": [
    {
     "data": {
      "text/plain": [
       "['laboratorio-modulo2-leccion01-numpy.ipynb',\n",
       " 'laboratorio-modulo2-leccion05-limpieza.ipynb',\n",
       " 'laboratorio-modulo2-leccion04-visualizacion.ipynb',\n",
       " 'laboratorio-modulo2-leccion03-groupby.ipynb',\n",
       " 'laboratorio-modulo2-leccion02-eda-union.ipynb',\n",
       " 'laboratorio-modulo2-leccion03-filtrado.ipynb']"
      ]
     },
     "execution_count": 4,
     "metadata": {},
     "output_type": "execute_result"
    }
   ],
   "source": [
    "datos = os.listdir()\n",
    "datos"
   ]
  },
  {
   "cell_type": "code",
   "execution_count": null,
   "id": "74e36252",
   "metadata": {},
   "outputs": [],
   "source": [
    "diccioanrio_df = {diccioanrio_df[re.findall(\"\\d{4}\", i)[0]] : pd.read_csv(f\"..dato/{i}\") for i in datos}\n",
    "\n",
    "diccioanrio_df = {}\n",
    "for i in datos:\n",
    "    df = pd.read_csv(i)\n",
    "    diccioanrio_df[i.spl]\n"
   ]
  },
  {
   "cell_type": "markdown",
   "id": "11308d6c",
   "metadata": {},
   "source": [
    "for i in datos\n",
    "# Laboratorio de NumPy"
   ]
  },
  {
   "cell_type": "markdown",
   "id": "a19d4596",
   "metadata": {},
   "source": [
    "#### Ejercicio 1 - Crea un array de 1D con los números del 0 al 9."
   ]
  },
  {
   "cell_type": "code",
   "execution_count": null,
   "id": "9d4e1d42",
   "metadata": {},
   "outputs": [],
   "source": [
    "import numpy as np"
   ]
  },
  {
   "cell_type": "code",
   "execution_count": null,
   "id": "3fc9d15d",
   "metadata": {},
   "outputs": [],
   "source": [
    "array1 = np.arange(10)\n",
    "print(array1)"
   ]
  },
  {
   "cell_type": "markdown",
   "id": "f4a41f16",
   "metadata": {},
   "source": [
    "#### Ejercicio 2 - Convierte un array 1D en un array 2D con 2 filas y 5 columnas."
   ]
  },
  {
   "cell_type": "code",
   "execution_count": null,
   "id": "3d7cef3c",
   "metadata": {},
   "outputs": [],
   "source": [
    "array2 = array1.reshape(2,5)\n",
    "print(array2)"
   ]
  },
  {
   "cell_type": "markdown",
   "id": "86bb8999",
   "metadata": {},
   "source": [
    "#### Ejercicio 3 - Encuentra los índices de los elementos con valor distinto de 0 en el siguiente array: [0, 2, 0, 3, 0, 4, 0]."
   ]
  },
  {
   "cell_type": "code",
   "execution_count": null,
   "id": "d1fcfca4",
   "metadata": {},
   "outputs": [],
   "source": [
    "lista1 = [0,2,0,3,0,4,0]\n",
    "array3 = np.array(lista1)\n",
    "print(array3)"
   ]
  },
  {
   "cell_type": "code",
   "execution_count": null,
   "id": "6b587211",
   "metadata": {},
   "outputs": [],
   "source": [
    "filtro = np.where(array3 != 0)\n",
    "print(filtro)"
   ]
  },
  {
   "cell_type": "markdown",
   "id": "1c548419",
   "metadata": {},
   "source": [
    "#### Ejercicio 4 - Crea un array 3x3 con valores aleatorios entre 0 y 1."
   ]
  },
  {
   "cell_type": "code",
   "execution_count": null,
   "id": "e1d4f19f",
   "metadata": {},
   "outputs": [],
   "source": [
    "array4 = np.random.rand(3, 3)\n",
    "print(array4)"
   ]
  },
  {
   "cell_type": "markdown",
   "id": "aee82811",
   "metadata": {},
   "source": [
    "#### Ejercicio 5 - Crea un array de 10 números aleatorios y encuentra el valor máximo y mínimo."
   ]
  },
  {
   "cell_type": "code",
   "execution_count": null,
   "id": "81fea76e",
   "metadata": {},
   "outputs": [],
   "source": [
    "array5 = np.random.randint(0,50,10)\n",
    "print(array5)\n",
    "\n",
    "max_array5 = max(array5)\n",
    "print(max_array5)\n",
    "\n",
    "min_array5 = min(array5)\n",
    "print(min_array5)"
   ]
  },
  {
   "cell_type": "markdown",
   "id": "6559375b",
   "metadata": {},
   "source": [
    "#### Ejercicio 6 - Crea un array de una dimensión e inviértelo. "
   ]
  },
  {
   "cell_type": "code",
   "execution_count": null,
   "id": "31385db0",
   "metadata": {},
   "outputs": [],
   "source": [
    "array6 = np.arange(5)\n",
    "print(array6)\n",
    "\n",
    "array_invertido = array6[::-1]\n",
    "print(array_invertido)"
   ]
  },
  {
   "cell_type": "markdown",
   "id": "4457f046",
   "metadata": {},
   "source": [
    "\n",
    "#### Ejercicio 6 - Genera un array tridimensional de dimensiones (2, 3, 4) con valores enteros del 1 al 24.\n",
    "\n",
    "- Selecciona el primer `15` del array.\n",
    "\n",
    "- Selecciona todos los elementos del primer array. \n",
    "\n",
    "- Selecciona la última fila del último array\n"
   ]
  },
  {
   "cell_type": "code",
   "execution_count": null,
   "id": "3cab04c9",
   "metadata": {},
   "outputs": [],
   "source": [
    "array7 = np.arange(1,25)\n",
    "print(array7)\n",
    "\n",
    "array8 = array7.reshape(2,3,4)\n",
    "print(array8)"
   ]
  },
  {
   "cell_type": "code",
   "execution_count": null,
   "id": "b924fe9c",
   "metadata": {},
   "outputs": [],
   "source": [
    "array8[1,0,2]"
   ]
  },
  {
   "cell_type": "code",
   "execution_count": null,
   "id": "13acb573",
   "metadata": {},
   "outputs": [],
   "source": [
    "array8[0]"
   ]
  },
  {
   "cell_type": "code",
   "execution_count": null,
   "id": "54b4d3a3",
   "metadata": {},
   "outputs": [],
   "source": [
    "array8[1,2]"
   ]
  },
  {
   "cell_type": "markdown",
   "id": "681b7e4e",
   "metadata": {},
   "source": [
    "\n",
    "#### Ejercicio 7 - Genera un array tridimensional de dimensiones (3, 2, 5) con valores enteros del 1 al 30.\n",
    "\n",
    "- Selecciona el subarray que contiene los dos primeros elementos de cada fila del primer array.\n",
    "\n",
    "- Selecciona el subarray que contiene todas las filas de los dos últimos arrays.\n"
   ]
  },
  {
   "cell_type": "code",
   "execution_count": null,
   "id": "b008a9aa",
   "metadata": {},
   "outputs": [],
   "source": [
    "array9 = np.arange(1,31)\n",
    "print(array9)\n",
    "\n",
    "array10 = array9.reshape(3,2,5)\n",
    "print(array10)"
   ]
  },
  {
   "cell_type": "code",
   "execution_count": null,
   "id": "3240aace",
   "metadata": {},
   "outputs": [],
   "source": [
    "array10[0,:,0:2]"
   ]
  },
  {
   "cell_type": "code",
   "execution_count": null,
   "id": "49218304",
   "metadata": {},
   "outputs": [],
   "source": [
    "array10[1:]"
   ]
  },
  {
   "cell_type": "markdown",
   "id": "4fabd9d0",
   "metadata": {},
   "source": [
    "#### Ejercicio 8 - Genera un array tridimensional de dimensiones (4, 3, 2) con valores enteros del 1 al 24.\n",
    "\n",
    "- Cambia todos los elementos de la segunda fila del segundo array por `0`.\n",
    "\n",
    "- Cambia todos los valores del último array a `-1`.\n"
   ]
  },
  {
   "cell_type": "code",
   "execution_count": null,
   "id": "0ef45b69",
   "metadata": {},
   "outputs": [],
   "source": [
    "array11 = np.arange(1,25)\n",
    "print(array11)\n",
    "\n",
    "array12 = array11.reshape(4,3,2)\n",
    "print(array12)"
   ]
  },
  {
   "cell_type": "code",
   "execution_count": null,
   "id": "b4357cb5",
   "metadata": {},
   "outputs": [],
   "source": [
    "array12[1,1] = 0\n",
    "print(array12)"
   ]
  },
  {
   "cell_type": "code",
   "execution_count": null,
   "id": "62cb57f3",
   "metadata": {},
   "outputs": [],
   "source": [
    "array12[3] = -1\n",
    "print(array12)"
   ]
  },
  {
   "cell_type": "markdown",
   "id": "c60bc3bb",
   "metadata": {},
   "source": [
    "\n",
    "#### Ejercicio 9 - Genera un array tridimensional de dimensiones (2, 4, 3) con valores enteros del -10 al 13.\n",
    "\n",
    "- Selecciona todos los elementos mayores a `5`.\n",
    "\n",
    "- Reemplaza todos los elementos negativos por `0`.\n"
   ]
  },
  {
   "cell_type": "code",
   "execution_count": null,
   "id": "28bf9232",
   "metadata": {},
   "outputs": [],
   "source": [
    "array13 = np.arange(-10,14)\n",
    "print(array13)\n",
    "\n",
    "array14 = array13.reshape(2,4,3)\n",
    "print(array14)"
   ]
  },
  {
   "cell_type": "code",
   "execution_count": null,
   "id": "0543a469",
   "metadata": {},
   "outputs": [],
   "source": [
    "criterio = array14 > 5\n",
    "resultado = array14[criterio]\n",
    "print(resultado)"
   ]
  },
  {
   "cell_type": "code",
   "execution_count": null,
   "id": "05cc21fe",
   "metadata": {},
   "outputs": [],
   "source": [
    "condicion = np.where(array14 < 0, 0, array14)\n",
    "print(condicion)"
   ]
  },
  {
   "cell_type": "markdown",
   "id": "ab38a3be",
   "metadata": {},
   "source": [
    "#### Ejercicio 10 - Genera un array tridimensional de dimensiones (3, 3, 3) con valores enteros del 1 al 27.\n",
    "\n",
    "- Selecciona el subarray del segundo array que contenga solo las dos primeras columnas.\n",
    "\n",
    "- Selecciona todos los elementos del tercer array que sean mayores que `20`.\n"
   ]
  },
  {
   "cell_type": "code",
   "execution_count": null,
   "id": "78c979cf",
   "metadata": {},
   "outputs": [],
   "source": [
    "array15 = np.arange(1,28)\n",
    "print(array15)\n",
    "\n",
    "array16 = array15.reshape(3,3,3)\n",
    "print(array16)"
   ]
  },
  {
   "cell_type": "code",
   "execution_count": null,
   "id": "8ffa890b",
   "metadata": {},
   "outputs": [],
   "source": [
    "array16[1,:,0:2]"
   ]
  },
  {
   "cell_type": "code",
   "execution_count": null,
   "id": "156211a1",
   "metadata": {},
   "outputs": [],
   "source": [
    "criterio = array16 > 20\n",
    "resultado = array16[criterio]\n",
    "print(resultado)"
   ]
  },
  {
   "cell_type": "markdown",
   "id": "f1a00156",
   "metadata": {},
   "source": [
    "#### Ejercicio 11 - Crea un array de 10 números aleatorios y reemplaza los valores máximos y mínimos por 0."
   ]
  },
  {
   "cell_type": "code",
   "execution_count": null,
   "id": "990fa526",
   "metadata": {},
   "outputs": [],
   "source": [
    "array17 = np.random.randint(1,20,10)\n",
    "print(array17)\n",
    "\n",
    "maximo = max(array17)\n",
    "print(maximo)\n",
    "\n",
    "minimo = min(array17)\n",
    "print(minimo)\n",
    "\n",
    "posicion_maximo = np.where(array17 == maximo)\n",
    "posicion_minimo = np.where(array17 == minimo)\n",
    "\n",
    "array17[posicion_maximo] = 0\n",
    "array17[posicion_minimo] = 0\n",
    "\n",
    "print(array17)"
   ]
  },
  {
   "cell_type": "markdown",
   "id": "781fafd0",
   "metadata": {},
   "source": [
    "#### Ejercicio 12 - Genera un array de 15 números aleatorios enteros entre 1 y 100 y reordénalo en orden ascendente."
   ]
  },
  {
   "cell_type": "code",
   "execution_count": null,
   "id": "caa4fd47",
   "metadata": {},
   "outputs": [],
   "source": [
    "array18 = np.random.randint(1,100,15)\n",
    "print(array18)"
   ]
  },
  {
   "cell_type": "code",
   "execution_count": null,
   "id": "8ccc6c69",
   "metadata": {},
   "outputs": [],
   "source": [
    "array19 = np.sort(array18)\n",
    "print(array19)"
   ]
  },
  {
   "cell_type": "markdown",
   "id": "45f10c3e",
   "metadata": {},
   "source": [
    "#### Ejercicio 11 - Calcula la suma de los elementos a lo largo de las filas y columnas en una matriz 4x4."
   ]
  },
  {
   "cell_type": "code",
   "execution_count": null,
   "id": "90220788",
   "metadata": {},
   "outputs": [],
   "source": [
    "array19 = np.random.randint(1,100,(4,4))\n",
    "print(array19)"
   ]
  },
  {
   "cell_type": "code",
   "execution_count": null,
   "id": "0f9a5808",
   "metadata": {},
   "outputs": [],
   "source": [
    "suma_columnas = np.sum(array19, 0)\n",
    "print(suma_columnas)"
   ]
  },
  {
   "cell_type": "code",
   "execution_count": null,
   "id": "fb35fd87",
   "metadata": {},
   "outputs": [],
   "source": [
    "suma_filas = np.sum(array19, 1)\n",
    "print(suma_filas)"
   ]
  },
  {
   "cell_type": "markdown",
   "id": "69b9751a",
   "metadata": {},
   "source": [
    "#### Ejercicio 12 - Crea una matriz de 5x5 con valores en el borde igual a 1 y en el interior igual a 0."
   ]
  },
  {
   "cell_type": "code",
   "execution_count": null,
   "id": "eca81323",
   "metadata": {},
   "outputs": [],
   "source": [
    "array20 = np.zeros((5,5), int)\n",
    "print(array20)\n",
    "\n",
    "array20[0] = 1\n",
    "array20[4] = 1\n",
    "array20[:,0] = 1\n",
    "array20[:,4] = 1\n",
    "print(array20)"
   ]
  },
  {
   "cell_type": "markdown",
   "id": "1ea8068d",
   "metadata": {},
   "source": [
    "#### Ejercicio 13 - Calcula la media y la desviación estándar de un array de 10 números aleatorios."
   ]
  },
  {
   "cell_type": "code",
   "execution_count": null,
   "id": "05dd579d",
   "metadata": {},
   "outputs": [],
   "source": [
    "array21 = np.random.randint(0,100,10)\n",
    "print(array21)\n",
    "\n",
    "media = np.mean(array21)\n",
    "print(media)\n",
    "\n",
    "desv_estandar = np.std(array21)\n",
    "print(desv_estandar)"
   ]
  },
  {
   "cell_type": "markdown",
   "id": "6add6669",
   "metadata": {},
   "source": [
    "#### Ejercicio 14 - Genera un array tridimensional de dimensiones (2, 3, 4) con valores enteros del 1 al 24.\n",
    "\n",
    "- Transpón el array para intercambiar los ejes de la forma (2, 3, 4) a (4, 3, 2).\n",
    "\n",
    "- Observa cómo cambian las posiciones de los elementos y sus índices después de la transposición. Explica en una celda de markdown que es lo que ha pasado. \n"
   ]
  },
  {
   "cell_type": "code",
   "execution_count": null,
   "id": "ae98aca5",
   "metadata": {},
   "outputs": [],
   "source": [
    "array22 = np.arange(1,25)\n",
    "print(array22)\n",
    "\n",
    "array23 = array22.reshape(2,3,4)\n",
    "print(array23)"
   ]
  },
  {
   "cell_type": "code",
   "execution_count": null,
   "id": "a5e324c7",
   "metadata": {},
   "outputs": [],
   "source": [
    "array24 = np.transpose(array23, (2,1,0))\n",
    "print(array24)"
   ]
  },
  {
   "cell_type": "code",
   "execution_count": null,
   "id": "5bd036f9",
   "metadata": {},
   "outputs": [],
   "source": [
    "# Antes del transpose, la matriz tenia una forma = (2,3,4), es decir, 2 matrices, de 3 filas y 4 columnas cada una. La 'shape' de las matrices de forma general toma en la primera posición el eje 0, en la segunda el eje 1 y en la tercera el eje 2: (0,1,2). El eje 0 corresponde al número de matrices. El eje 1 al número de filas y el eje 2 al número de columnas. Para pasar de tener una matriz con forma (2,3,4) a una con forma (4,3,2) hay que lograrlo mediante la reordenación de los ejes correspondientes. Es decir, la forma inicial era: eje 0 = 2, eje 1 = 3 y eje 3 = 4. Ahora se quiere que: el nuevo eje 0 = antiguo eje 2 = 4. Que el nuevo eje 1 = antiguo eje 1 = 3. Que el nuevo eje 2 = antiguo eje 0 = 2. Por tanto, a la hora de transponer se indica la nueva posición de los ejes tomando en cuenta la que tenían inicialmente. El resultado para transponer sería (2,1,0), lo que daría como resultado la forma: (4,3,2)"
   ]
  },
  {
   "cell_type": "code",
   "execution_count": null,
   "id": "5479686e",
   "metadata": {},
   "outputs": [],
   "source": [
    "# En este caso se podría haber utilizado directamente la función de transponer sin haber indicado los ejes, ya que de forma predeterminada habría cambiado el Ncolumnas por Nmatrices. Es decir el eje 0 por el eje 2, y viceversa. Inicialmente: eje 0 = 2, eje 1 = 3, y eje 3 = 4. El eje 1 se mantiene igual, ósea que será igual a 3. El eje 0 pasa a ser el eje 3, por tanto el nuevo eje 3 = 2. Y el eje 3 pasa a ser el nuevo eje 0, es decir, igual a 4, con el resultado de la forma: (4,3,2)"
   ]
  },
  {
   "cell_type": "code",
   "execution_count": null,
   "id": "1e49ac48",
   "metadata": {},
   "outputs": [],
   "source": [
    "array24 = np.transpose(array23)\n",
    "print(array24)"
   ]
  },
  {
   "cell_type": "markdown",
   "id": "1e32b5e6",
   "metadata": {},
   "source": [
    "#### Ejercicio 15 - Genera un array tridimensional de dimensiones (3, 4, 2) con valores enteros del 1 al 24.\n",
    "\n",
    "- Transpón el array para intercambiar el primer y segundo eje, de manera que la nueva forma del array sea (4, 3, 2).\n"
   ]
  },
  {
   "cell_type": "code",
   "execution_count": null,
   "id": "0146fdd6",
   "metadata": {},
   "outputs": [],
   "source": [
    "array24 = np.arange(1,25)\n",
    "print(array24)\n",
    "\n",
    "array25 = array24.reshape(3,4,2)\n",
    "print(array25)"
   ]
  },
  {
   "cell_type": "code",
   "execution_count": null,
   "id": "cede4759",
   "metadata": {},
   "outputs": [],
   "source": [
    "array26 = np.transpose(array25, (1,0,2))\n",
    "print(array26)"
   ]
  },
  {
   "cell_type": "markdown",
   "id": "fcf92586",
   "metadata": {},
   "source": [
    "#### Ejercicio 16 - Genera un array tridimensional de dimensiones (3, 2, 4) con valores enteros del 1 al 24.\n",
    "\n",
    "- Realiza una rotación completa de los ejes para convertir la forma original (3, 2, 4) en (4, 3, 2).\n"
   ]
  },
  {
   "cell_type": "code",
   "execution_count": null,
   "id": "dd2c7f27",
   "metadata": {},
   "outputs": [],
   "source": [
    "array27 = np.arange(1,25)\n",
    "print(array27)\n",
    "\n",
    "array28 = array27.reshape(3,2,4)\n",
    "print(array28)"
   ]
  },
  {
   "cell_type": "code",
   "execution_count": null,
   "id": "016c6a22",
   "metadata": {},
   "outputs": [],
   "source": [
    "array29 = np.transpose(array28, (2,0,1))\n",
    "print(array29)"
   ]
  },
  {
   "cell_type": "markdown",
   "id": "1795e11f",
   "metadata": {},
   "source": [
    "#### Ejercicio 17 - Manipulación de Arrays en 3D\n",
    "\n",
    "- Crea un array tridimensional con dimensiones (3, 4, 5) cuyos elementos sean números enteros aleatorios entre -10 y 10.\n",
    "\n",
    "- Crea un array vacío con la misma forma y dimensiones que el array creado anteriormente. Luego, reemplaza los valores de la matriz vacía basada en los valores del primer array bajo las siguientes condiciones:\n",
    "\n",
    "   - Si el valor es igual a la mediana, se reemplaza por `\"M\"`.\n",
    "\n",
    "   - Si el valor es mayor que la mediana, se reemplaza por `\"X\"`.\n",
    "\n",
    "   - Si el valor es menor que la mediana, se reemplaza por `\"Y\"`.\n",
    "\n",
    "   - Si el valor es igual al máximo, se reemplaza por `\"MAX\"`.\n",
    "\n",
    "   - Si el valor es igual al mínimo, se reemplaza por `\"MIN\"`.\n"
   ]
  },
  {
   "cell_type": "code",
   "execution_count": null,
   "id": "d309b397",
   "metadata": {},
   "outputs": [],
   "source": [
    "array30 = np.random.randint(-10,11,(3,4,5))\n",
    "print(array30)"
   ]
  },
  {
   "cell_type": "code",
   "execution_count": null,
   "id": "3e6f5e22",
   "metadata": {},
   "outputs": [],
   "source": [
    "array31 = np.empty((3,4,5),object)\n",
    "print(array31)"
   ]
  },
  {
   "cell_type": "code",
   "execution_count": null,
   "id": "20a7bdee",
   "metadata": {},
   "outputs": [],
   "source": [
    "mediana = np.median(array30)\n",
    "print(mediana)\n",
    "maximo = np.max(array30)\n",
    "print(maximo)\n",
    "minimo = np.min(array30)\n",
    "print(minimo)"
   ]
  },
  {
   "cell_type": "code",
   "execution_count": null,
   "id": "23dc8244",
   "metadata": {},
   "outputs": [],
   "source": [
    "posicion_maximo = np.where(array30 == maximo)\n",
    "print(posicion_maximo)\n",
    "posicion_minimo = np.where(array30 == minimo)\n",
    "print(posicion_minimo)\n",
    "posicion_mediana = np.where(array30 == mediana)\n",
    "print(posicion_mediana)\n",
    "posicion_mayor_mediana = np.where((array30 > mediana) & (array30 != minimo) & (array30 != maximo))\n",
    "print(posicion_mayor_mediana)\n",
    "posicion_menor_mediana = np.where((array30 < mediana) & (array30 != minimo) & (array30 != maximo))\n",
    "print(posicion_menor_mediana)"
   ]
  },
  {
   "cell_type": "code",
   "execution_count": null,
   "id": "301d918f",
   "metadata": {},
   "outputs": [],
   "source": [
    "array31[posicion_minimo] = \"MIN\"\n",
    "array31[posicion_maximo] = \"MAX\"\n",
    "array31[posicion_mediana] = \"M\"\n",
    "array31[posicion_mayor_mediana] = \"X\"\n",
    "array31[posicion_menor_mediana] = \"Y\"\n",
    "print(array30)\n",
    "print(array31)"
   ]
  },
  {
   "cell_type": "markdown",
   "id": "83794704",
   "metadata": {},
   "source": [
    "#### Ejercicio 18 - Verificación de Filas y Columnas Iguales\n",
    "\n",
    "Crea un array bidimensional de dimensiones 4x4, escribe un código para determinar si alguna fila es exactamente igual a alguna columna.\n",
    "\n",
    "**Reglas:**\n",
    "\n",
    "- No puedes usar funciones predefinidas de NumPy para comparar filas y columnas (`np.array_equal`, etc.).\n",
    "\n",
    "- Debes resolverlo con estructuras básicas de Python (bucles, condicionales, etc.).\n",
    "\n",
    "- Debes revisar si hay al menos una fila que coincida exactamente con alguna columna.\n",
    "\n",
    "**Pistas**:\n",
    "\n",
    "- Puedes recorrer cada fila y cada columna de la matriz usando bucles.\n",
    "\n",
    "- Para comparar una fila con una columna, puedes hacerlo elemento por elemento."
   ]
  },
  {
   "cell_type": "code",
   "execution_count": null,
   "id": "afd51c60",
   "metadata": {},
   "outputs": [],
   "source": [
    "array32 = np.array([[3, 4, 5, 4], [4, 9, 6, 9], [7, 5, 6, 6], [14, 10, 8,9]])\n",
    "print(array32)"
   ]
  },
  {
   "cell_type": "code",
   "execution_count": null,
   "id": "23913201",
   "metadata": {},
   "outputs": [],
   "source": [
    "filas = []\n",
    "columna1= []\n",
    "columna2 = []\n",
    "columna3 = []\n",
    "columna4 = []\n",
    "for elemento in array32:\n",
    "  filas.append(list(elemento))\n",
    "\n",
    "for lista in filas:\n",
    "  columna1.append(lista[0])\n",
    "  columna2.append(lista[1])\n",
    "  columna3.append(lista[2])\n",
    "  columna4.append(lista[3])\n",
    "\n",
    "print(filas)\n",
    "print(columna1)\n",
    "print(columna2)\n",
    "print(columna3)\n",
    "print(columna4)\n",
    "\n",
    "for lista in filas:\n",
    "  if lista == columna1:\n",
    "    print(f\"La fila {lista} coincide con la columna {columna1}\") \n",
    "  if lista == columna2:\n",
    "    print(f\"La fila {lista} coincide con la columna {columna2}\") \n",
    "  if lista == columna3:\n",
    "    print(f\"La fila {lista} coincide con la columna {columna3}\") \n",
    "  if lista == columna4:\n",
    "    print(f\"La fila {lista} coincide con la columna {columna4}\") "
   ]
  }
 ],
 "metadata": {
  "kernelspec": {
   "display_name": "contenido",
   "language": "python",
   "name": "python3"
  },
  "language_info": {
   "codemirror_mode": {
    "name": "ipython",
    "version": 3
   },
   "file_extension": ".py",
   "mimetype": "text/x-python",
   "name": "python",
   "nbconvert_exporter": "python",
   "pygments_lexer": "ipython3",
   "version": "3.11.8"
  }
 },
 "nbformat": 4,
 "nbformat_minor": 5
}
